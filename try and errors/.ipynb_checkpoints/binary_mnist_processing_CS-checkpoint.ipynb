{
 "cells": [
  {
   "cell_type": "code",
   "execution_count": 18,
   "id": "16349eb3",
   "metadata": {},
   "outputs": [
    {
     "name": "stdout",
     "output_type": "stream",
     "text": [
      "Lettura di tutte le immagini da C:/Users/Crist/ComputerVision/Dataset/binary_mnist//binary_mnist\n",
      "Scrittura sul file manual_digits.csv\n",
      "9\n",
      "3136\n"
     ]
    }
   ],
   "source": [
    "import cv2\n",
    "import os\n",
    "import numpy as np\n",
    "\n",
    "DATASET_DIR = \"C:/Users/Crist/ComputerVision/Dataset/binary_mnist/\"\n",
    "DATASET_FILENAME = \"manual_digits.csv\"\n",
    "\n",
    "data_file = open(DATASET_DIR + DATASET_FILENAME,\"w\")\n",
    "\n",
    "print(\"Lettura di tutte le immagini da %s\" % DATASET_DIR + \"/binary_mnist\")\n",
    "print(\"Scrittura sul file %s\" % DATASET_FILENAME)\n",
    "\n",
    "for i in range(1,10):\n",
    "            \n",
    "    # Il metodo imread legge un'immagine da file e la converte in ndarray\n",
    "    img = cv2.imread(DATASET_DIR + \"binary_mnist/\" + str(i) + \".jpg\", cv2.IMREAD_GRAYSCALE) \n",
    "\n",
    "    # Tramite il metodo di numpy flatten rendo la matrice img 28*28 un'array unidimensionale\n",
    "    small_img = cv2.resize(img, (56, 56))\n",
    "    arr = small_img.flatten() \n",
    "      \n",
    "    # astype converte arr in un'array di stringhe, il  metodo .join converte l'array di stringhe in un'unica stringa, \n",
    "    # separando gli elementi con la virgola\n",
    "    data_file.write(\",\".join(arr.astype(str)))\n",
    "        \n",
    "    # A seguito dei pixel, a fine di ogni immagine inserisco la corrispondente etichetta\n",
    "    data_file.write(\",\"+str(i))\n",
    "    data_file.write(\"\\n\")\n",
    "print(i)\n",
    "print(arr.shape[0])\n",
    "data_file.close()\n",
    "\n"
   ]
  },
  {
   "cell_type": "code",
   "execution_count": null,
   "id": "86826255",
   "metadata": {},
   "outputs": [],
   "source": []
  }
 ],
 "metadata": {
  "kernelspec": {
   "display_name": "Python 3",
   "language": "python",
   "name": "python3"
  },
  "language_info": {
   "codemirror_mode": {
    "name": "ipython",
    "version": 3
   },
   "file_extension": ".py",
   "mimetype": "text/x-python",
   "name": "python",
   "nbconvert_exporter": "python",
   "pygments_lexer": "ipython3",
   "version": "3.8.8"
  }
 },
 "nbformat": 4,
 "nbformat_minor": 5
}
