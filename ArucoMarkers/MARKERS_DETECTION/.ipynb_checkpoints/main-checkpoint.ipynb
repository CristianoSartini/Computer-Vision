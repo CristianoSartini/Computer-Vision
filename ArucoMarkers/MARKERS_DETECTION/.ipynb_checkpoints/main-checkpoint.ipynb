{
 "cells": [
  {
   "cell_type": "code",
   "execution_count": 1,
   "id": "7fe6676e-5dbb-45a1-9553-0233626878a6",
   "metadata": {},
   "outputs": [
    {
     "ename": "AttributeError",
     "evalue": "module 'cv2.aruco' has no attribute 'ArucoDetector'",
     "output_type": "error",
     "traceback": [
      "\u001b[1;31m---------------------------------------------------------------------------\u001b[0m",
      "\u001b[1;31mAttributeError\u001b[0m                            Traceback (most recent call last)",
      "Cell \u001b[1;32mIn[1], line 16\u001b[0m\n\u001b[0;32m     14\u001b[0m     \u001b[38;5;28;01mbreak\u001b[39;00m\n\u001b[0;32m     15\u001b[0m gray_frame \u001b[38;5;241m=\u001b[39m cv\u001b[38;5;241m.\u001b[39mcvtColor(frame, cv\u001b[38;5;241m.\u001b[39mCOLOR_BGR2GRAY)\n\u001b[1;32m---> 16\u001b[0m detector \u001b[38;5;241m=\u001b[39m cv\u001b[38;5;241m.\u001b[39maruco\u001b[38;5;241m.\u001b[39mArucoDetector(marker_dict, detector_params)\n\u001b[0;32m     17\u001b[0m marker_corners, marker_ids, rejected_candidates \u001b[38;5;241m=\u001b[39m detector\u001b[38;5;241m.\u001b[39mdetectMarkers(gray_frame)\n\u001b[0;32m     18\u001b[0m \u001b[38;5;28;01mif\u001b[39;00m marker_corners:\n\u001b[0;32m     19\u001b[0m     \u001b[38;5;66;03m# marker_corners: first, second, third, fourth corners\u001b[39;00m\n",
      "\u001b[1;31mAttributeError\u001b[0m: module 'cv2.aruco' has no attribute 'ArucoDetector'"
     ]
    }
   ],
   "source": [
    "import cv2 as cv\n",
    "import cv2.aruco as aruco \n",
    "import numpy as np \n",
    "\n",
    "marker_dict = aruco.getPredefinedDictionary(cv.aruco.DICT_4X4_50)\n",
    "detector_params = cv.aruco.DetectorParameters()\n",
    "\n",
    "cap = cv.VideoCapture(0)\n",
    "\n",
    "while True:\n",
    "    ret, frame = cap.read()\n",
    "    if not ret:\n",
    "        print(\"Impossibile leggere frame \")\n",
    "        break\n",
    "    gray_frame = cv.cvtColor(frame, cv.COLOR_BGR2GRAY)\n",
    "    detector = cv.aruco.ArucoDetector(marker_dict, detector_params)\n",
    "    marker_corners, marker_ids, rejected_candidates = detector.detectMarkers(gray_frame)\n",
    "    if marker_corners:\n",
    "        # marker_corners: first, second, third, fourth corners\n",
    "        for ids, corners in zip(marker_ids, marker_corners):\n",
    "            cv.polylines(frame, [corners.astype(np.int32)], True, (0,255,255), 4, cv.LINE_AA)\n",
    "            corners = corners.reshape(4,2)\n",
    "            corners = corners.astype(int)\n",
    "            top_right = corners[0].ravel()\n",
    "            cv.putText(frame, f\"id: {ids[0]}\", top_right, cv.FONT_HERSHEY_PLAIN, 1.3, (0,255,0), 2, cv.LINE_AA)\n",
    "            print(ids, \"  \", corners )\n",
    "    cv.imshow(\"frame\", frame)\n",
    "    key = cv.waitKey(1)\n",
    "    if key == ord('q'):\n",
    "        break\n",
    "\n",
    "cap.release()\n",
    "cv.destroyAllWindows()"
   ]
  }
 ],
 "metadata": {
  "kernelspec": {
   "display_name": "Python 3 (ipykernel)",
   "language": "python",
   "name": "python3"
  },
  "language_info": {
   "codemirror_mode": {
    "name": "ipython",
    "version": 3
   },
   "file_extension": ".py",
   "mimetype": "text/x-python",
   "name": "python",
   "nbconvert_exporter": "python",
   "pygments_lexer": "ipython3",
   "version": "3.11.7"
  }
 },
 "nbformat": 4,
 "nbformat_minor": 5
}
