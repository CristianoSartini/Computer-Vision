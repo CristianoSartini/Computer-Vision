{
 "cells": [
  {
   "cell_type": "code",
   "execution_count": 1,
   "id": "ea2cfbdb-53c4-4505-ba6c-0a7632047ff1",
   "metadata": {
    "editable": true,
    "slideshow": {
     "slide_type": ""
    },
    "tags": []
   },
   "outputs": [
    {
     "name": "stdout",
     "output_type": "stream",
     "text": [
      "\"(image_dir_path)\" Directory is created\n"
     ]
    }
   ],
   "source": [
    "import cv2 as cv\n",
    "import os\n",
    "\n",
    "CHESS_BOARD_DIM = (9, 6)\n",
    "\n",
    "n = 0  # image counter\n",
    "\n",
    "# checking if images dir exists, if not the create images directory\n",
    "image_dir_path = \"images\"\n",
    "\n",
    "CHECK_DIR = os.path.isdir(image_dir_path)\n",
    "# if directory doesn't exists we create it\n",
    "if not CHECK_DIR:\n",
    "    os.makedirs(image_dir_path)\n",
    "    print(f'\"(image_dir_path)\" Directory is created')\n",
    "else:\n",
    "    print(f'\"(image_dir_path)\" Directory already exists')\n",
    "\n",
    "\n",
    "# criteria for boards searching\n",
    "criteria = (cv.TERM_CRITERIA_EPS + cv.TERM_CRITERIA_MAX_ITER, 30, 0.001)\n"
   ]
  },
  {
   "cell_type": "code",
   "execution_count": null,
   "id": "1b63c39b-5177-4671-98e2-d064dc5f15a6",
   "metadata": {},
   "outputs": [],
   "source": [
    "def detect_checker_board(image, grayImage, criteria, boardDimension):\n",
    "    ret, corners = cv.findChessboardCorners(grayImage, boardDimension)\n",
    "    if ret == True:\n",
    "        corners1 = cv.cornerSubPix(grayImage, corners, (3, 3), (-1, -1), criteria)\n",
    "        image = cv.drawChessboardCorners(image, boardDimension, corners1, ret)\n",
    "\n",
    "    return image, ret\n",
    "\n",
    "\n",
    "cap = cv.VideoCapture(1)\n",
    "\n",
    "while True:\n",
    "    _, frame = cap.read()\n",
    "    copyFrame = frame.copy()\n",
    "    gray = cv.cvtColor(frame, cv.COLOR_BGR2GRAY)\n",
    "\n",
    "    image, board_detected = detect_checker_board(frame, gray, criteria, CHESS_BOARD_DIM)\n",
    "    # print(ret)\n",
    "    cv.putText(\n",
    "        frame,\n",
    "        f\"saved_img : {n}\",\n",
    "        (30, 40),\n",
    "        cv.FONT_HERSHEY_PLAIN,\n",
    "        1.4,\n",
    "        (0, 255, 0),\n",
    "        2,\n",
    "        cv.LINE_AA,\n",
    "    )\n",
    "\n",
    "    cv.imshow(\"frame\", frame)\n",
    "    cv.imshow(\"copyFrame\", copyFrame)\n",
    "\n",
    "    key = cv.waitKey(1)\n",
    "\n",
    "    if key == ord(\"q\"):\n",
    "        break\n",
    "    if key == ord(\"s\") and board_detected == True:\n",
    "        # storing the checker board image\n",
    "        cv.imwrite(f\"{image_dir_path}/image{n}.png\", copyFrame)\n",
    "\n",
    "        print(f\"saved image number {n}\")\n",
    "        n += 1  # incrementing the image counter\n",
    "\n",
    "\n",
    "cap.release()  # releasing webcam resource\n",
    "cv.destroyAllWindows()\n",
    "\n",
    "print(\"Total saved Images:\", n)"
   ]
  }
 ],
 "metadata": {
  "kernelspec": {
   "display_name": "Python 3 (ipykernel)",
   "language": "python",
   "name": "python3"
  },
  "language_info": {
   "codemirror_mode": {
    "name": "ipython",
    "version": 3
   },
   "file_extension": ".py",
   "mimetype": "text/x-python",
   "name": "python",
   "nbconvert_exporter": "python",
   "pygments_lexer": "ipython3",
   "version": "3.11.7"
  }
 },
 "nbformat": 4,
 "nbformat_minor": 5
}
