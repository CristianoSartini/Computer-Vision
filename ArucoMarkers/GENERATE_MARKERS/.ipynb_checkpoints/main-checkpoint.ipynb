{
 "cells": [
  {
   "cell_type": "code",
   "execution_count": 2,
   "id": "d7335e87-b843-4085-8899-5447ffd74044",
   "metadata": {},
   "outputs": [],
   "source": [
    "import cv2 as cv\n",
    "import cv2.aruco as aruco \n",
    "\n",
    "\n",
    "# a dictionary to specify the type of marker\n",
    "marker_dict = aruco.getPredefinedDictionary(cv.aruco.DICT_4X4_250)\n",
    "\n",
    "MARKER_SIZE = 400 # pixels\n",
    "\n",
    "for id in range(50):\n",
    "\n",
    "    marker_image = aruco.generateImageMarker(marker_dict, id, MARKER_SIZE)\n",
    "    cv.imwrite(f\"markers/markder_{id}.png\", marker_image)\n",
    "\n",
    "\n",
    "# In teoria esistono 2^16 = 65.536 combinazioni di aruco markers 4x4"
   ]
  }
 ],
 "metadata": {
  "kernelspec": {
   "display_name": "Python 3 (ipykernel)",
   "language": "python",
   "name": "python3"
  },
  "language_info": {
   "codemirror_mode": {
    "name": "ipython",
    "version": 3
   },
   "file_extension": ".py",
   "mimetype": "text/x-python",
   "name": "python",
   "nbconvert_exporter": "python",
   "pygments_lexer": "ipython3",
   "version": "3.11.7"
  }
 },
 "nbformat": 4,
 "nbformat_minor": 5
}
