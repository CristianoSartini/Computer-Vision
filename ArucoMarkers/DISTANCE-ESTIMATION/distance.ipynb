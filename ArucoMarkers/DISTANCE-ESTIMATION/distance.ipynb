{
 "cells": [
  {
   "cell_type": "code",
   "execution_count": 10,
   "id": "e4361575-0892-4af5-b7fe-68826b54a620",
   "metadata": {},
   "outputs": [
    {
     "name": "stdout",
     "output_type": "stream",
     "text": [
      "['camMatrix', 'distCoef', 'rVector', 'tVector']\n"
     ]
    }
   ],
   "source": [
    "import cv2 as cv\n",
    "import cv2.aruco as aruco \n",
    "import numpy as np \n",
    "\n",
    "calib_data_path = r\"C:\\Users\\Crist\\OneDrive\\Desktop\\COMPUTER VISION\\AUGMENTED_REALITY\\calib_data\\MultiMatrix.npz\"\n",
    "calib_data = np.load(calib_data_path)\n",
    "print(calib_data.files)\n",
    "\n",
    "cam_mat = calib_data[\"camMatrix\"]\n",
    "dist_coef = calib_data[\"distCoef\"]\n",
    "r_vector = calib_data[\"rVector\"]\n",
    "t_vector = calib_data[\"tVector\"]\n",
    "\n",
    "MARKER_SIZE = 3.7  # centimeters"
   ]
  },
  {
   "cell_type": "code",
   "execution_count": null,
   "id": "28eaa1ff-4ca1-4554-9ba3-64e75a76dd41",
   "metadata": {},
   "outputs": [],
   "source": [
    "marker_dict = aruco.getPredefinedDictionary(cv.aruco.DICT_4X4_50)\n",
    "detector_params = cv.aruco.DetectorParameters()\n",
    "\n",
    "cap = cv.VideoCapture(0)\n",
    "\n",
    "while True:\n",
    "    ret, frame = cap.read()\n",
    "    if not ret:\n",
    "        print(\"Impossibile leggere frame \")\n",
    "        break\n",
    "    gray_frame = cv.cvtColor(frame, cv.COLOR_BGR2GRAY)\n",
    "    detector = cv.aruco.ArucoDetector(marker_dict, detector_params)\n",
    "    marker_corners, marker_ids, rejected_candidates = detector.detectMarkers(gray_frame)\n",
    "    \n",
    "    if marker_corners:\n",
    "        rVec, tVec, _ = cv.aruco.estimatePoseSingleMarkers(marker_corners, MARKER_SIZE, cam_mat, dist_coef)\n",
    "        # marker_corners: first, second, third, fourth corners\n",
    "        total_markers = range(0, marker_ids.size)\n",
    "        for ids, corners, i in zip(marker_ids, marker_corners, total_markers):\n",
    "            cv.polylines(frame, [corners.astype(np.int32)], True, (0,255,255), 4, cv.LINE_AA)\n",
    "            corners = corners.reshape(4,2)\n",
    "            corners = corners.astype(int)\n",
    "            top_right = corners[0].ravel()\n",
    "            top_left = corners[1].ravel()\n",
    "            bottom_right = corners[2].ravel()\n",
    "            bottom_left = corners[3].ravel()\n",
    "            # Draw the pose of the marker\n",
    "            point = cv.drawFrameAxes(frame, cam_mat, dist_coef, rVec[i], tVec[i], 3, 2)\n",
    "            cv.putText(frame, f\"id: {ids[0]} Dist: {round(tVec[i][0][2])},2\", top_right, cv.FONT_HERSHEY_PLAIN, 1.3, (200,100,255), 2, cv.LINE_AA)\n",
    "            cv.putText(frame, f\"X: {round(tVec[i][0][0])} Y: {round(tVec[i][0][1])},2\", bottom_left, cv.FONT_HERSHEY_PLAIN, 1.3, (0,100,200), 2, cv.LINE_AA)\n",
    "            print(ids, \"  \", corners )\n",
    "    cv.imshow(\"frame\", frame)\n",
    "    key = cv.waitKey(1)\n",
    "    if key == ord('q'):\n",
    "        break\n",
    "\n",
    "cap.release()\n",
    "cv.destroyAllWindows()"
   ]
  }
 ],
 "metadata": {
  "kernelspec": {
   "display_name": "Python 3 (ipykernel)",
   "language": "python",
   "name": "python3"
  },
  "language_info": {
   "codemirror_mode": {
    "name": "ipython",
    "version": 3
   },
   "file_extension": ".py",
   "mimetype": "text/x-python",
   "name": "python",
   "nbconvert_exporter": "python",
   "pygments_lexer": "ipython3",
   "version": "3.11.7"
  }
 },
 "nbformat": 4,
 "nbformat_minor": 5
}
